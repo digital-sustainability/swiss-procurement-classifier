{
 "cells": [
  {
   "cell_type": "markdown",
   "metadata": {},
   "source": [
    "# Single Run, Train Model\n",
    "\n",
    "This notebook is useful to do single runs with the ModelTrainer.\n",
    "This could mean a combination of 'anbieter', 'attributes' or any other configuration available in the config object"
   ]
  },
  {
   "cell_type": "code",
   "execution_count": 1,
   "metadata": {},
   "outputs": [],
   "source": [
    "%matplotlib inline\n",
    "import matplotlib.pyplot as plt\n",
    "import pandas as pd\n",
    "import numpy as np\n",
    "from learn import ModelTrainer\n",
    "from collection import Collection"
   ]
  },
  {
   "cell_type": "code",
   "execution_count": 2,
   "metadata": {},
   "outputs": [],
   "source": [
    "try:\n",
    "    collection\n",
    "except NameError:\n",
    "    collection = Collection()"
   ]
  },
  {
   "cell_type": "markdown",
   "metadata": {},
   "source": [
    "# Part 1: Setup Helpers (manual)\n",
    "\n",
    "This part can be skipped in most runs and is only useful to handle special situations\n",
    "\n",
    "\n",
    "## Persist current collection"
   ]
  },
  {
   "cell_type": "code",
   "execution_count": null,
   "metadata": {},
   "outputs": [],
   "source": [
    "collection.to_file('dbs/sql-query-fix.json')"
   ]
  },
  {
   "cell_type": "markdown",
   "metadata": {},
   "source": [
    "## Restore from file (careful)\n",
    "\n",
    "In the next box you can restore a list of runs from a json file"
   ]
  },
  {
   "cell_type": "code",
   "execution_count": null,
   "metadata": {},
   "outputs": [],
   "source": [
    "collection.import_file('dbs/sql-query-fix.json', force=True)"
   ]
  },
  {
   "cell_type": "markdown",
   "metadata": {},
   "source": [
    "## Reset model cache\n",
    "\n",
    "This needs to be done when a new query should be done e.g. anbieter has changed\n",
    "\n",
    "Maybe implement cache invalidation in ModelTrainer"
   ]
  },
  {
   "cell_type": "code",
   "execution_count": null,
   "metadata": {},
   "outputs": [],
   "source": [
    "trainer.resetSQLData()"
   ]
  },
  {
   "cell_type": "markdown",
   "metadata": {},
   "source": [
    "## set config"
   ]
  },
  {
   "cell_type": "code",
   "execution_count": 23,
   "metadata": {},
   "outputs": [],
   "source": [
    "trainer.config = config"
   ]
  },
  {
   "cell_type": "markdown",
   "metadata": {},
   "source": [
    "## Set attributes in trainer"
   ]
  },
  {
   "cell_type": "markdown",
   "metadata": {},
   "source": [
    "# Part 2: Config\n",
    "\n",
    "Here you can configure the run by specifying some variables\n",
    "\n",
    "The variables are hopefully self explanatory"
   ]
  },
  {
   "cell_type": "code",
   "execution_count": 3,
   "metadata": {},
   "outputs": [],
   "source": [
    "cleanData = lambda x: x\n",
    "# Prepare Attributes\n",
    "#def cleanData(df, filters):\n",
    "#    if 'gatt_wto' in filters:\n",
    "#        df[['gatt_wto']] = df[['gatt_wto']].applymap(ModelTrainer.unifyYesNo)\n",
    "#    if 'anzahl_angebote' in filters:\n",
    "#        df[['anzahl_angebote']] = df[['anzahl_angebote']].applymap(ModelTrainer.tonumeric)\n",
    "#    if 'teilangebote' in filters:\n",
    "#        df[['teilangebote']] = df[['teilangebote']].applymap(ModelTrainer.unifyYesNo)\n",
    "#    if 'lose' in filters:\n",
    "#        df[['lose']] = df[['lose']].applymap(ModelTrainer.unifyYesNo)\n",
    "#    if 'varianten' in filters:\n",
    "#        df[['varianten']] = df[['varianten']].applymap(ModelTrainer.unifyYesNo)\n",
    "#    if 'auftragsart_art' in filters:\n",
    "#        auftrags_art_df = pd.get_dummies(df['auftragsart_art'], prefix='aftrgsrt',dummy_na=True)\n",
    "#        df = pd.concat([df,auftrags_art_df],axis=1).drop(['auftragsart_art'],axis=1)\n",
    "#    if 'sprache' in filters:\n",
    "#        sprache_df = pd.get_dummies(df['sprache'], prefix='lang',dummy_na=True)\n",
    "#        df = pd.concat([df,sprache_df],axis=1).drop(['sprache'],axis=1)\n",
    "#    if 'auftragsart' in filters:\n",
    "#        auftragsart_df = pd.get_dummies(df['auftragsart'], prefix='auftr',dummy_na=True)\n",
    "#        df = pd.concat([df,auftragsart_df],axis=1).drop(['auftragsart'],axis=1)\n",
    "#    if 'beschaffungsstelle_plz' in filters:\n",
    "#        plz_df = pd.get_dummies(df['beschaffungsstelle_plz'], prefix='beschaffung_plz',dummy_na=True)\n",
    "#        df = pd.concat([df,plz_df],axis=1).drop(['beschaffungsstelle_plz'],axis=1)\n",
    "#    return df"
   ]
  },
  {
   "cell_type": "code",
   "execution_count": 4,
   "metadata": {},
   "outputs": [],
   "source": [
    "# anbieter_CPV are all the CPVs the Anbieter ever won a procurement for. So all the CPVs they are interested in. \n",
    "select = (\n",
    "    \"ausschreibung.meldungsnummer, \"\n",
    "    \"anbieter.institution as anbieter_institution, \"\n",
    "    \"auftraggeber.beschaffungsstelle_plz, \"\n",
    "    \"ausschreibung.gatt_wto, \"\n",
    "    \"ausschreibung.sprache, \"\n",
    "    \"ausschreibung.auftragsart, \"\n",
    "    \"ausschreibung.auftragsart_art, \"\n",
    "    \"ausschreibung.lose, \"\n",
    "    \"ausschreibung.teilangebote, \"\n",
    "    \"ausschreibung.varianten, \"\n",
    "   # \"ausschreibung.titel, \"\n",
    "    \"ausschreibung.bietergemeinschaft, \"\n",
    "    \"cpv_dokument.cpv_nummer as ausschreibung_cpv\"\n",
    ")"
   ]
  },
  {
   "cell_type": "code",
   "execution_count": 21,
   "metadata": {},
   "outputs": [],
   "source": [
    "config = {\n",
    "    # ratio that the positive and negative responses have to each other\n",
    "    'positive_to_negative_ratio': 0.5,\n",
    "    # Percentage of training set that is used for testing (Recommendation of at least 25%)\n",
    "    'test_size': 0.25,\n",
    "    'draw_tree': True,\n",
    "    'runs': 100,\n",
    "    #'enabled_algorithms': ['random_forest'],\n",
    "    # 'skip_cross_val': True,\n",
    "    #'draw_tree': True,\n",
    "    # 'enabled_algorithms': ['random_forest', 'decision_tree', 'gradient_boost'],\n",
    "    'enabled_algorithms': ['random_forest', 'decision_tree'],\n",
    "    'random_forest': {\n",
    "        # Tune Random Forest Parameter\n",
    "        'n_estimators': 100,\n",
    "        'max_features': 'sqrt',\n",
    "        'max_depth': None,\n",
    "        'min_samples_split': 4\n",
    "    },\n",
    "    'decision_tree': {\n",
    "        'max_depth': 30,\n",
    "        'min_samples_split': 4,\n",
    "        'max_features': 'sqrt'\n",
    "    },\n",
    "    'gradient_boost': {\n",
    "        'n_estimators': 100,\n",
    "        'learning_rate': 0.1,\n",
    "        'max_depth': 6,\n",
    "        'max_features': 'sqrt'\n",
    "    }\n",
    "}"
   ]
  },
  {
   "cell_type": "code",
   "execution_count": 6,
   "metadata": {},
   "outputs": [],
   "source": [
    "try:\n",
    "    trainer\n",
    "except NameError:\n",
    "    trainer = ModelTrainer(select, '', config, [])"
   ]
  },
  {
   "cell_type": "code",
   "execution_count": 7,
   "metadata": {},
   "outputs": [],
   "source": [
    "#attributes = ['auftragsart_art']\n",
    "#attributes = ['ausschreibung_cpv', 'auftragsart_art']\n",
    "attributes = ['ausschreibung_cpv', 'auftragsart_art','beschaffungsstelle_plz', 'auftragsart','gatt_wto','lose','teilangebote', 'varianten','sprache',]\n",
    "trainer.attributes = attributes"
   ]
  },
  {
   "cell_type": "code",
   "execution_count": 8,
   "metadata": {},
   "outputs": [],
   "source": [
    "# Choose a bidder to train a model for (number of positive marked after the name)\n",
    "\n",
    "# === THESIS ===\n",
    "\n",
    "anbieter = 'Alpiq AG' #430\n",
    "#anbieter = 'Swisscom' #302\n",
    "#anbieter = 'Kummler + Matter AG' #160\n",
    "#anbieter = 'Siemens AG' #532\n",
    "\n",
    "#anbieter = 'G. Baumgartner AG' #65\n",
    "#anbieter = 'ELCA Informatik AG' #125\n",
    "#anbieter = 'Thermo Fisher Scientific (Schweiz) AG' #160\n",
    "#anbieter = 'Arnold AG' #82\n",
    "\n",
    "#anbieter = 'Riget AG' #21\n",
    "#anbieter = 'isolutions AG' #16\n",
    "#anbieter = 'CSI Consulting AG' #21\n",
    "#anbieter = 'Aebi & Co. AG Maschinenfabrik' #15\n",
    "\n",
    "#anbieter = 'DB Schenker AG' #6\n",
    "#anbieter = 'IT-Logix AG' #12\n",
    "#anbieter = 'AVS Syteme AG' #14\n",
    "#anbieter = 'Sajet SA' #7\n",
    "\n",
    "# === TESTING ===\n",
    "\n",
    "#anbieter = 'Marti AG' #456\n",
    "#anbieter = 'Axpo AG' #40\n",
    "#anbieter = 'Hewlett-Packard' #90\n",
    "#anbieter = 'BG Ingénieurs Conseils' SA #116\n",
    "#anbieter = 'Pricewaterhousecoopers' #42\n",
    "#anbieter = 'Helbling Beratung + Bauplanung AG' #20\n",
    "#anbieter = 'Ofrex SA' #52\n",
    "#anbieter = 'PENTAG Informatik AG' #10\n",
    "#anbieter = 'Wicki Forst AG' #12\n",
    "#anbieter = 'T-Systems Schweiz' #18\n",
    "#anbieter = 'Bafilco AG' #20\n",
    "#anbieter = '4Video-Production GmbH' #3\n",
    "#anbieter = 'Widmer Ingenieure AG' #6\n",
    "#anbieter = 'hmb partners AG' #2\n",
    "#anbieter = 'Planmeca' #4\n",
    "#anbieter = 'K & M Installationen AG' #4\n",
    "\n",
    "trainer.anbieter = anbieter"
   ]
  },
  {
   "cell_type": "markdown",
   "metadata": {},
   "source": [
    "# Part 3: Run\n",
    "\n",
    "Use the configured ModelTrainer to train a model and check the metrics in the output"
   ]
  },
  {
   "cell_type": "code",
   "execution_count": 24,
   "metadata": {},
   "outputs": [
    {
     "name": "stderr",
     "output_type": "stream",
     "text": [
      "WARNING:learn:duplicated meldungsnummer\n"
     ]
    },
    {
     "name": "stdout",
     "output_type": "stream",
     "text": [
      "[0.9024390243902439, 0.8048780487804879, 0.975609756097561, 0.975609756097561, 0.8292682926829268]\n",
      "Avg. CV Score | decision_tree Run 0: 0.90\n",
      "[0.9512195121951219, 0.926829268292683, 0.9024390243902439, 0.9024390243902439, 0.8048780487804879]\n",
      "Avg. CV Score | decision_tree Run 1: 0.90\n",
      "[0.975609756097561, 0.8536585365853658, 0.975609756097561, 0.926829268292683, 1.0]\n",
      "Avg. CV Score | decision_tree Run 2: 0.95\n",
      "[0.9024390243902439, 0.9512195121951219, 0.9024390243902439, 0.9024390243902439, 0.9024390243902439]\n",
      "Avg. CV Score | decision_tree Run 3: 0.91\n",
      "[0.9024390243902439, 0.9024390243902439, 0.9024390243902439, 0.9512195121951219, 0.8536585365853658]\n",
      "Avg. CV Score | decision_tree Run 4: 0.90\n",
      "[0.8780487804878049, 0.926829268292683, 1.0, 0.926829268292683, 0.9024390243902439]\n",
      "Avg. CV Score | decision_tree Run 5: 0.93\n",
      "[0.9024390243902439, 0.9512195121951219, 0.9512195121951219, 0.9024390243902439, 0.8780487804878049]\n",
      "Avg. CV Score | decision_tree Run 6: 0.92\n",
      "[0.8536585365853658, 0.8536585365853658, 0.9024390243902439, 0.8536585365853658, 0.9024390243902439]\n",
      "Avg. CV Score | decision_tree Run 7: 0.87\n",
      "[1.0, 0.926829268292683, 0.8536585365853658, 0.9512195121951219, 0.9024390243902439]\n",
      "Avg. CV Score | decision_tree Run 8: 0.93\n",
      "[0.8536585365853658, 0.926829268292683, 1.0, 0.9512195121951219, 0.8780487804878049]\n",
      "Avg. CV Score | decision_tree Run 9: 0.92\n",
      "[0.9512195121951219, 0.9512195121951219, 0.926829268292683, 0.9512195121951219, 0.926829268292683]\n",
      "Avg. CV Score | decision_tree Run 10: 0.94\n",
      "[0.975609756097561, 0.975609756097561, 0.9512195121951219, 0.9024390243902439, 0.926829268292683]\n",
      "Avg. CV Score | decision_tree Run 11: 0.95\n",
      "[0.9024390243902439, 0.9512195121951219, 0.926829268292683, 0.8536585365853658, 0.8780487804878049]\n",
      "Avg. CV Score | decision_tree Run 12: 0.90\n",
      "[1.0, 0.9024390243902439, 0.9512195121951219, 0.8536585365853658, 0.9024390243902439]\n",
      "Avg. CV Score | decision_tree Run 13: 0.92\n",
      "[0.9024390243902439, 0.8780487804878049, 0.975609756097561, 1.0, 0.975609756097561]\n",
      "Avg. CV Score | decision_tree Run 14: 0.95\n",
      "[0.975609756097561, 0.8780487804878049, 0.9512195121951219, 0.975609756097561, 0.8780487804878049]\n",
      "Avg. CV Score | decision_tree Run 15: 0.93\n",
      "[0.926829268292683, 0.926829268292683, 0.975609756097561, 0.975609756097561, 0.8780487804878049]\n",
      "Avg. CV Score | decision_tree Run 16: 0.94\n",
      "[0.926829268292683, 0.9024390243902439, 0.975609756097561, 0.8780487804878049, 0.9512195121951219]\n",
      "Avg. CV Score | decision_tree Run 17: 0.93\n",
      "[0.8292682926829268, 0.8292682926829268, 0.9512195121951219, 0.8780487804878049, 0.9512195121951219]\n",
      "Avg. CV Score | decision_tree Run 18: 0.89\n",
      "[0.8048780487804879, 0.8536585365853658, 0.9512195121951219, 0.8780487804878049, 0.926829268292683]\n",
      "Avg. CV Score | decision_tree Run 19: 0.88\n",
      "[0.8536585365853658, 0.975609756097561, 0.926829268292683, 1.0, 0.926829268292683]\n",
      "Avg. CV Score | decision_tree Run 20: 0.94\n",
      "[0.9512195121951219, 0.9024390243902439, 0.7804878048780488, 0.9512195121951219, 1.0]\n",
      "Avg. CV Score | decision_tree Run 21: 0.92\n",
      "[0.926829268292683, 0.975609756097561, 0.9024390243902439, 0.926829268292683, 0.975609756097561]\n",
      "Avg. CV Score | decision_tree Run 22: 0.94\n",
      "[0.926829268292683, 0.9512195121951219, 0.9512195121951219, 0.9512195121951219, 0.8780487804878049]\n",
      "Avg. CV Score | decision_tree Run 23: 0.93\n",
      "[0.9512195121951219, 0.975609756097561, 0.8536585365853658, 0.8780487804878049, 0.926829268292683]\n",
      "Avg. CV Score | decision_tree Run 24: 0.92\n",
      "[0.9512195121951219, 0.7317073170731707, 0.8536585365853658, 0.9512195121951219, 0.7317073170731707]\n",
      "Avg. CV Score | decision_tree Run 25: 0.84\n",
      "[0.9024390243902439, 1.0, 0.9024390243902439, 0.8780487804878049, 0.975609756097561]\n",
      "Avg. CV Score | decision_tree Run 26: 0.93\n",
      "[0.9512195121951219, 0.8536585365853658, 0.9024390243902439, 0.8780487804878049, 0.8536585365853658]\n",
      "Avg. CV Score | decision_tree Run 27: 0.89\n",
      "[0.9024390243902439, 0.9024390243902439, 0.975609756097561, 0.926829268292683, 0.7560975609756098]\n",
      "Avg. CV Score | decision_tree Run 28: 0.89\n",
      "[0.9512195121951219, 0.8780487804878049, 0.8536585365853658, 0.8780487804878049, 0.9024390243902439]\n",
      "Avg. CV Score | decision_tree Run 29: 0.89\n",
      "[0.975609756097561, 0.9024390243902439, 0.926829268292683, 0.975609756097561, 0.926829268292683]\n",
      "Avg. CV Score | decision_tree Run 30: 0.94\n",
      "[0.926829268292683, 0.9024390243902439, 0.9512195121951219, 0.975609756097561, 0.9512195121951219]\n",
      "Avg. CV Score | decision_tree Run 31: 0.94\n",
      "[0.975609756097561, 1.0, 0.926829268292683, 0.975609756097561, 0.975609756097561]\n",
      "Avg. CV Score | decision_tree Run 32: 0.97\n",
      "[0.8536585365853658, 0.926829268292683, 0.9024390243902439, 0.9024390243902439, 0.9024390243902439]\n",
      "Avg. CV Score | decision_tree Run 33: 0.90\n",
      "[0.9512195121951219, 0.8780487804878049, 0.9512195121951219, 0.975609756097561, 0.9024390243902439]\n",
      "Avg. CV Score | decision_tree Run 34: 0.93\n",
      "[0.9024390243902439, 1.0, 0.8048780487804879, 0.8048780487804879, 0.9024390243902439]\n",
      "Avg. CV Score | decision_tree Run 35: 0.88\n",
      "[1.0, 0.975609756097561, 1.0, 0.9512195121951219, 1.0]\n",
      "Avg. CV Score | decision_tree Run 36: 0.99\n",
      "[0.975609756097561, 0.8780487804878049, 0.9512195121951219, 0.9024390243902439, 0.9024390243902439]\n",
      "Avg. CV Score | decision_tree Run 37: 0.92\n",
      "[0.975609756097561, 0.926829268292683, 0.7804878048780488, 0.926829268292683, 0.9512195121951219]\n",
      "Avg. CV Score | decision_tree Run 38: 0.91\n",
      "[0.9512195121951219, 0.9512195121951219, 0.9512195121951219, 0.975609756097561, 0.9024390243902439]\n",
      "Avg. CV Score | decision_tree Run 39: 0.95\n",
      "[0.8780487804878049, 0.8780487804878049, 0.8780487804878049, 0.8292682926829268, 0.8536585365853658]\n",
      "Avg. CV Score | decision_tree Run 40: 0.86\n",
      "[0.975609756097561, 0.9512195121951219, 0.9024390243902439, 0.9024390243902439, 0.9024390243902439]\n",
      "Avg. CV Score | decision_tree Run 41: 0.93\n",
      "[0.9512195121951219, 0.9512195121951219, 0.8536585365853658, 0.9024390243902439, 0.975609756097561]\n",
      "Avg. CV Score | decision_tree Run 42: 0.93\n",
      "[0.975609756097561, 0.926829268292683, 0.975609756097561, 0.9512195121951219, 0.8536585365853658]\n",
      "Avg. CV Score | decision_tree Run 43: 0.94\n",
      "[0.9512195121951219, 0.8292682926829268, 0.8048780487804879, 0.8780487804878049, 0.8536585365853658]\n",
      "Avg. CV Score | decision_tree Run 44: 0.86\n",
      "[1.0, 0.9512195121951219, 0.9512195121951219, 1.0, 0.975609756097561]\n",
      "Avg. CV Score | decision_tree Run 45: 0.98\n",
      "[0.8048780487804879, 0.926829268292683, 0.8292682926829268, 0.8292682926829268, 0.8292682926829268]\n",
      "Avg. CV Score | decision_tree Run 46: 0.84\n",
      "[0.926829268292683, 0.926829268292683, 0.8536585365853658, 0.9024390243902439, 0.9024390243902439]\n",
      "Avg. CV Score | decision_tree Run 47: 0.90\n",
      "[0.9024390243902439, 0.926829268292683, 0.9024390243902439, 0.926829268292683, 0.8292682926829268]\n",
      "Avg. CV Score | decision_tree Run 48: 0.90\n",
      "[1.0, 0.926829268292683, 0.975609756097561, 0.975609756097561, 0.8780487804878049]\n",
      "Avg. CV Score | decision_tree Run 49: 0.95\n",
      "[0.8292682926829268, 0.926829268292683, 1.0, 0.9512195121951219, 1.0]\n",
      "Avg. CV Score | decision_tree Run 50: 0.94\n",
      "[0.7073170731707317, 0.9024390243902439, 0.8780487804878049, 0.975609756097561, 0.926829268292683]\n",
      "Avg. CV Score | decision_tree Run 51: 0.88\n",
      "[0.975609756097561, 0.8048780487804879, 0.9024390243902439, 0.8536585365853658, 0.9024390243902439]\n",
      "Avg. CV Score | decision_tree Run 52: 0.89\n",
      "[0.8780487804878049, 0.8780487804878049, 0.975609756097561, 0.9024390243902439, 0.7560975609756098]\n",
      "Avg. CV Score | decision_tree Run 53: 0.88\n",
      "[0.8536585365853658, 0.8780487804878049, 0.926829268292683, 0.975609756097561, 0.9512195121951219]\n",
      "Avg. CV Score | decision_tree Run 54: 0.92\n",
      "[0.975609756097561, 0.9024390243902439, 0.975609756097561, 0.926829268292683, 0.926829268292683]\n",
      "Avg. CV Score | decision_tree Run 55: 0.94\n",
      "[1.0, 0.9512195121951219, 0.9512195121951219, 0.9512195121951219, 0.9024390243902439]\n",
      "Avg. CV Score | decision_tree Run 56: 0.95\n",
      "[0.975609756097561, 0.975609756097561, 0.8536585365853658, 0.9512195121951219, 0.975609756097561]\n",
      "Avg. CV Score | decision_tree Run 57: 0.95\n",
      "[0.7317073170731707, 0.9024390243902439, 0.8780487804878049, 0.926829268292683, 0.9512195121951219]\n",
      "Avg. CV Score | decision_tree Run 58: 0.88\n"
     ]
    },
    {
     "name": "stdout",
     "output_type": "stream",
     "text": [
      "[0.926829268292683, 0.9024390243902439, 0.926829268292683, 0.975609756097561, 0.9512195121951219]\n",
      "Avg. CV Score | decision_tree Run 59: 0.94\n",
      "[1.0, 0.9512195121951219, 0.8780487804878049, 0.9024390243902439, 0.9024390243902439]\n",
      "Avg. CV Score | decision_tree Run 60: 0.93\n",
      "[0.8536585365853658, 0.975609756097561, 1.0, 0.975609756097561, 0.975609756097561]\n",
      "Avg. CV Score | decision_tree Run 61: 0.96\n",
      "[0.8536585365853658, 0.975609756097561, 0.9024390243902439, 0.975609756097561, 0.926829268292683]\n",
      "Avg. CV Score | decision_tree Run 62: 0.93\n",
      "[0.9512195121951219, 0.8780487804878049, 0.9512195121951219, 0.9512195121951219, 0.8780487804878049]\n",
      "Avg. CV Score | decision_tree Run 63: 0.92\n",
      "[0.8536585365853658, 0.9512195121951219, 1.0, 0.975609756097561, 0.9512195121951219]\n",
      "Avg. CV Score | decision_tree Run 64: 0.95\n",
      "[0.9024390243902439, 0.8292682926829268, 0.8048780487804879, 0.9024390243902439, 0.975609756097561]\n",
      "Avg. CV Score | decision_tree Run 65: 0.88\n",
      "[0.975609756097561, 0.926829268292683, 0.975609756097561, 0.926829268292683, 0.8292682926829268]\n",
      "Avg. CV Score | decision_tree Run 66: 0.93\n",
      "[0.8292682926829268, 0.8292682926829268, 0.926829268292683, 0.926829268292683, 0.9512195121951219]\n",
      "Avg. CV Score | decision_tree Run 67: 0.89\n",
      "[0.8536585365853658, 0.8292682926829268, 0.9512195121951219, 0.7560975609756098, 0.9024390243902439]\n",
      "Avg. CV Score | decision_tree Run 68: 0.86\n",
      "[0.8780487804878049, 0.8780487804878049, 0.8292682926829268, 0.8780487804878049, 0.926829268292683]\n",
      "Avg. CV Score | decision_tree Run 69: 0.88\n",
      "[0.926829268292683, 1.0, 0.9024390243902439, 0.926829268292683, 0.926829268292683]\n",
      "Avg. CV Score | decision_tree Run 70: 0.94\n",
      "[0.9512195121951219, 0.9512195121951219, 1.0, 0.9512195121951219, 0.926829268292683]\n",
      "Avg. CV Score | decision_tree Run 71: 0.96\n",
      "[0.9512195121951219, 0.975609756097561, 0.8048780487804879, 0.9512195121951219, 0.8780487804878049]\n",
      "Avg. CV Score | decision_tree Run 72: 0.91\n",
      "[0.8536585365853658, 0.926829268292683, 0.9024390243902439, 0.9512195121951219, 0.8536585365853658]\n",
      "Avg. CV Score | decision_tree Run 73: 0.90\n",
      "[1.0, 0.9024390243902439, 0.9512195121951219, 0.975609756097561, 1.0]\n",
      "Avg. CV Score | decision_tree Run 74: 0.97\n",
      "[0.8780487804878049, 0.9024390243902439, 0.975609756097561, 0.926829268292683, 0.9512195121951219]\n",
      "Avg. CV Score | decision_tree Run 75: 0.93\n",
      "[0.926829268292683, 0.926829268292683, 0.9024390243902439, 0.8048780487804879, 0.9512195121951219]\n",
      "Avg. CV Score | decision_tree Run 76: 0.90\n",
      "[0.9512195121951219, 0.975609756097561, 0.9512195121951219, 0.9512195121951219, 0.9512195121951219]\n",
      "Avg. CV Score | decision_tree Run 77: 0.96\n",
      "[0.8048780487804879, 0.8536585365853658, 0.8292682926829268, 0.9024390243902439, 0.8048780487804879]\n",
      "Avg. CV Score | decision_tree Run 78: 0.84\n",
      "[0.975609756097561, 0.926829268292683, 0.926829268292683, 0.7804878048780488, 0.9512195121951219]\n",
      "Avg. CV Score | decision_tree Run 79: 0.91\n",
      "[0.9024390243902439, 0.975609756097561, 0.8780487804878049, 0.8780487804878049, 0.9024390243902439]\n",
      "Avg. CV Score | decision_tree Run 80: 0.91\n",
      "[0.975609756097561, 0.8780487804878049, 0.8536585365853658, 0.926829268292683, 0.975609756097561]\n",
      "Avg. CV Score | decision_tree Run 81: 0.92\n",
      "[0.975609756097561, 0.975609756097561, 0.9024390243902439, 0.9024390243902439, 0.926829268292683]\n",
      "Avg. CV Score | decision_tree Run 82: 0.94\n",
      "[0.9512195121951219, 0.926829268292683, 0.975609756097561, 0.9512195121951219, 0.975609756097561]\n",
      "Avg. CV Score | decision_tree Run 83: 0.96\n",
      "[0.926829268292683, 0.8292682926829268, 0.8536585365853658, 0.8048780487804879, 1.0]\n",
      "Avg. CV Score | decision_tree Run 84: 0.88\n",
      "[0.9512195121951219, 0.9512195121951219, 0.9512195121951219, 0.926829268292683, 0.8536585365853658]\n",
      "Avg. CV Score | decision_tree Run 85: 0.93\n",
      "[0.9024390243902439, 0.8780487804878049, 0.926829268292683, 0.9512195121951219, 0.926829268292683]\n",
      "Avg. CV Score | decision_tree Run 86: 0.92\n",
      "[0.8536585365853658, 0.8780487804878049, 0.9024390243902439, 0.8536585365853658, 0.9512195121951219]\n",
      "Avg. CV Score | decision_tree Run 87: 0.89\n",
      "[0.926829268292683, 0.926829268292683, 0.926829268292683, 0.8292682926829268, 0.8292682926829268]\n",
      "Avg. CV Score | decision_tree Run 88: 0.89\n",
      "[0.8292682926829268, 0.975609756097561, 0.926829268292683, 0.9024390243902439, 0.9024390243902439]\n",
      "Avg. CV Score | decision_tree Run 89: 0.91\n",
      "[0.975609756097561, 0.926829268292683, 0.7317073170731707, 0.9024390243902439, 0.9024390243902439]\n",
      "Avg. CV Score | decision_tree Run 90: 0.89\n",
      "[0.9024390243902439, 0.8780487804878049, 0.9512195121951219, 0.8292682926829268, 0.9512195121951219]\n",
      "Avg. CV Score | decision_tree Run 91: 0.90\n",
      "[0.926829268292683, 0.926829268292683, 0.926829268292683, 0.9024390243902439, 0.926829268292683]\n",
      "Avg. CV Score | decision_tree Run 92: 0.92\n",
      "[0.926829268292683, 0.9512195121951219, 0.975609756097561, 0.9512195121951219, 0.9512195121951219]\n",
      "Avg. CV Score | decision_tree Run 93: 0.95\n",
      "[0.975609756097561, 0.9512195121951219, 0.8536585365853658, 0.8536585365853658, 0.926829268292683]\n",
      "Avg. CV Score | decision_tree Run 94: 0.91\n",
      "[0.9512195121951219, 0.926829268292683, 0.9512195121951219, 0.8536585365853658, 0.926829268292683]\n",
      "Avg. CV Score | decision_tree Run 95: 0.92\n",
      "[0.9024390243902439, 0.9512195121951219, 0.8780487804878049, 0.9512195121951219, 0.9024390243902439]\n",
      "Avg. CV Score | decision_tree Run 96: 0.92\n",
      "[0.926829268292683, 0.926829268292683, 0.8536585365853658, 0.8780487804878049, 0.9512195121951219]\n",
      "Avg. CV Score | decision_tree Run 97: 0.91\n",
      "[0.8780487804878049, 0.926829268292683, 0.8780487804878049, 0.9024390243902439, 0.8536585365853658]\n",
      "Avg. CV Score | decision_tree Run 98: 0.89\n",
      "[0.8780487804878049, 0.9512195121951219, 0.9512195121951219, 0.7317073170731707, 0.926829268292683]\n",
      "Avg. CV Score | decision_tree Run 99: 0.89\n"
     ]
    }
   ],
   "source": [
    "output = trainer.run()"
   ]
  },
  {
   "cell_type": "code",
   "execution_count": 25,
   "metadata": {},
   "outputs": [
    {
     "ename": "KeyError",
     "evalue": "'random_forest'",
     "output_type": "error",
     "traceback": [
      "\u001b[0;31m---------------------------------------------------------------------------\u001b[0m",
      "\u001b[0;31mKeyError\u001b[0m                                  Traceback (most recent call last)",
      "\u001b[0;32m<ipython-input-25-d9739cf139d4>\u001b[0m in \u001b[0;36m<module>\u001b[0;34m()\u001b[0m\n\u001b[0;32m----> 1\u001b[0;31m \u001b[0mpd\u001b[0m\u001b[0;34m.\u001b[0m\u001b[0mDataFrame\u001b[0m\u001b[0;34m.\u001b[0m\u001b[0mfrom_dict\u001b[0m\u001b[0;34m(\u001b[0m\u001b[0moutput\u001b[0m\u001b[0;34m[\u001b[0m\u001b[0;34m'random_forest'\u001b[0m\u001b[0;34m]\u001b[0m\u001b[0;34m[\u001b[0m\u001b[0;34m'data'\u001b[0m\u001b[0;34m]\u001b[0m\u001b[0;34m)\u001b[0m\u001b[0;34m\u001b[0m\u001b[0m\n\u001b[0m",
      "\u001b[0;31mKeyError\u001b[0m: 'random_forest'"
     ]
    }
   ],
   "source": [
    "pd.DataFrame.from_dict(output['random_forest']['data'])"
   ]
  },
  {
   "cell_type": "code",
   "execution_count": null,
   "metadata": {},
   "outputs": [],
   "source": [
    "positives, negatives, duplicates = trainer.prepare_data()"
   ]
  },
  {
   "cell_type": "code",
   "execution_count": null,
   "metadata": {},
   "outputs": [],
   "source": [
    "negatives"
   ]
  },
  {
   "cell_type": "code",
   "execution_count": null,
   "metadata": {},
   "outputs": [],
   "source": [
    "len(positives)"
   ]
  },
  {
   "cell_type": "code",
   "execution_count": null,
   "metadata": {},
   "outputs": [],
   "source": [
    "pd.DataFrame.from_dict(output['duplicates'])"
   ]
  },
  {
   "cell_type": "code",
   "execution_count": null,
   "metadata": {},
   "outputs": [],
   "source": [
    "collection.append(output)"
   ]
  },
  {
   "cell_type": "code",
   "execution_count": null,
   "metadata": {},
   "outputs": [],
   "source": [
    "collection.get_all_as_df('random_forest')"
   ]
  },
  {
   "cell_type": "code",
   "execution_count": null,
   "metadata": {},
   "outputs": [],
   "source": [
    "collection.list"
   ]
  },
  {
   "cell_type": "code",
   "execution_count": null,
   "metadata": {},
   "outputs": [],
   "source": []
  }
 ],
 "metadata": {
  "kernelspec": {
   "display_name": "Python 3",
   "language": "python",
   "name": "python3"
  },
  "language_info": {
   "codemirror_mode": {
    "name": "ipython",
    "version": 3
   },
   "file_extension": ".py",
   "mimetype": "text/x-python",
   "name": "python",
   "nbconvert_exporter": "python",
   "pygments_lexer": "ipython3",
   "version": "3.6.1"
  }
 },
 "nbformat": 4,
 "nbformat_minor": 2
}
