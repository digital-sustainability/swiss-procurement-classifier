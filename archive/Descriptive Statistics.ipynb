{
 "cells": [
  {
   "cell_type": "code",
   "execution_count": null,
   "metadata": {},
   "outputs": [],
   "source": [
    "from db import connection, engine\n",
    "%matplotlib inline\n",
    "import matplotlib\n",
    "import pandas as pd\n",
    "import numpy as np"
   ]
  },
  {
   "cell_type": "code",
   "execution_count": null,
   "metadata": {},
   "outputs": [],
   "source": [
    "df = pd.read_sql(\"select cpv.cpv_nummer, count(meldungsnummer), cpv.cpv_deutsch from cpv left join cpv_dokument on cpv.cpv_nummer = cpv_dokument.cpv_nummer where cpv.cpv_deutsch != 'NULL' group by cpv_dokument.cpv_nummer;\",\n",
    "    connection)\n",
    "df"
   ]
  },
  {
   "cell_type": "code",
   "execution_count": null,
   "metadata": {},
   "outputs": [],
   "source": [
    "pd.DataFrame(engine.table_names())"
   ]
  },
  {
   "cell_type": "code",
   "execution_count": null,
   "metadata": {},
   "outputs": [],
   "source": [
    "selects = \"anbieter.*, zuschlag.*, projekt.*, auftraggeber.*, ausschreibung.*\"\n",
    "\n",
    "query = \"\"\"select {} from (((((beruecksichtigteanbieter_zuschlag\n",
    "    INNER JOIN zuschlag ON zuschlag.meldungsnummer = beruecksichtigteanbieter_zuschlag.meldungsnummer)\n",
    "    INNER JOIN anbieter ON beruecksichtigteanbieter_zuschlag.anbieter_id = anbieter.anbieter_id)\n",
    "    INNER JOIN projekt ON zuschlag.projekt_id = projekt.projekt_id)\n",
    "    INNER JOIN auftraggeber ON projekt.auftraggeber_id = auftraggeber.auftraggeber_id)\n",
    "    INNER JOIN ausschreibung ON projekt.projekt_id = ausschreibung.projekt_id)\n",
    "    ;\n",
    "\"\"\".format(selects)\n",
    "\n",
    "df = pd.read_sql(query, connection)\n",
    "df"
   ]
  },
  {
   "cell_type": "code",
   "execution_count": null,
   "metadata": {},
   "outputs": [],
   "source": [
    "data = df.copy()"
   ]
  },
  {
   "cell_type": "code",
   "execution_count": null,
   "metadata": {},
   "outputs": [],
   "source": [
    "query = \"\"\"\n",
    "SELECT \n",
    "    table_name, \n",
    "    table_rows \n",
    "FROM \n",
    "    INFORMATION_SCHEMA.TABLES\n",
    "WHERE TABLE_SCHEMA = 'simap' AND table_name in ('zuschlag', 'ausschreibung', 'anbieter', 'auftraggeber', 'cpv_dokument', 'projekt');\n",
    "\"\"\"\n",
    "desc = pd.read_sql(query, connection)\n",
    "desc"
   ]
  },
  {
   "cell_type": "code",
   "execution_count": null,
   "metadata": {},
   "outputs": [],
   "source": []
  }
 ],
 "metadata": {
  "kernelspec": {
   "display_name": "Python 3",
   "language": "python",
   "name": "python3"
  },
  "language_info": {
   "codemirror_mode": {
    "name": "ipython",
    "version": 3
   },
   "file_extension": ".py",
   "mimetype": "text/x-python",
   "name": "python",
   "nbconvert_exporter": "python",
   "pygments_lexer": "ipython3",
   "version": "3.6.1"
  }
 },
 "nbformat": 4,
 "nbformat_minor": 2
}
