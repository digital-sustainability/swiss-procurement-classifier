{
 "cells": [
  {
   "cell_type": "code",
   "execution_count": null,
   "metadata": {},
   "outputs": [],
   "source": [
    "from db import connection, engine\n",
    "%matplotlib inline\n",
    "import matplotlib.pyplot as plt\n",
    "import pandas as pd\n",
    "import numpy as np\n",
    "\n",
    "from sklearn.preprocessing import StandardScaler"
   ]
  },
  {
   "cell_type": "code",
   "execution_count": null,
   "metadata": {},
   "outputs": [],
   "source": [
    "pd.DataFrame(engine.table_names())"
   ]
  },
  {
   "cell_type": "code",
   "execution_count": null,
   "metadata": {},
   "outputs": [],
   "source": [
    "zuschlag = pd.read_sql(\"SELECT * FROM zuschlag;\",\n",
    "    connection)\n",
    "zuschlag"
   ]
  },
  {
   "cell_type": "code",
   "execution_count": null,
   "metadata": {},
   "outputs": [],
   "source": [
    "grouped_zuschlag = zuschlag.groupby(['sprache']).size()\n",
    "total = sum(grouped_zuschlag)\n",
    "plt.title(\"Titel\")\n",
    "grouped_zuschlag.plot.pie(figsize=(6,6), autopct=lambda p: '{:.0f}'.format(p * total / 100))"
   ]
  },
  {
   "cell_type": "code",
   "execution_count": null,
   "metadata": {},
   "outputs": [],
   "source": [
    "selects = \"anbieter.*, zuschlag.preis, zuschlag.gatt_wto, zuschlag.meldungsnummer as z_meldungsnummer, zuschlag.anzahl_angebote, auftraggeber.institution, auftraggeber.beschaffungsstelle_plz, projekt.projekt_titel, cpv_dokument.cpv_nummer, cpv.cpv_deutsch\"\n",
    "\n",
    "query = \"\"\"select {} from (((((beruecksichtigteanbieter_zuschlag\n",
    "    INNER JOIN zuschlag ON zuschlag.meldungsnummer = beruecksichtigteanbieter_zuschlag.meldungsnummer)\n",
    "    INNER JOIN anbieter ON beruecksichtigteanbieter_zuschlag.anbieter_id = anbieter.anbieter_id)\n",
    "    INNER JOIN projekt ON zuschlag.projekt_id = projekt.projekt_id)\n",
    "    INNER JOIN auftraggeber ON projekt.auftraggeber_id = auftraggeber.auftraggeber_id)\n",
    "    INNER JOIN ausschreibung ON projekt.projekt_id = ausschreibung.projekt_id\n",
    "    INNER JOIN cpv_dokument ON zuschlag.meldungsnummer = cpv_dokument.meldungsnummer)\n",
    "    INNER JOIN cpv ON cpv_dokument.cpv_nummer = cpv.cpv_nummer\n",
    "    ;\n",
    "\"\"\".format(selects)\n",
    "\n",
    "df = pd.read_sql(query, connection)"
   ]
  },
  {
   "cell_type": "code",
   "execution_count": null,
   "metadata": {},
   "outputs": [],
   "source": [
    "selects = \"anbieter.*, zuschlag.*, projekt.*, auftraggeber.*, ausschreibung.*, cpv_dokument.*\"\n",
    "\n",
    "query = \"\"\"select {} from ((((((beruecksichtigteanbieter_zuschlag\n",
    "    INNER JOIN zuschlag ON zuschlag.meldungsnummer = beruecksichtigteanbieter_zuschlag.meldungsnummer)\n",
    "    INNER JOIN anbieter ON beruecksichtigteanbieter_zuschlag.anbieter_id = anbieter.anbieter_id)\n",
    "    INNER JOIN projekt ON zuschlag.projekt_id = projekt.projekt_id)\n",
    "    INNER JOIN auftraggeber ON projekt.auftraggeber_id = auftraggeber.auftraggeber_id)\n",
    "    INNER JOIN ausschreibung ON projekt.projekt_id = ausschreibung.projekt_id)\n",
    "    INNER JOIN cpv_dokument ON cpv_dokument.meldungsnummer = zuschlag.meldungsnummer)\n",
    "    ;\n",
    "\"\"\".format(selects)\n",
    "\n",
    "full_df = pd.read_sql(query, connection)\n",
    "full_df"
   ]
  },
  {
   "cell_type": "code",
   "execution_count": null,
   "metadata": {},
   "outputs": [],
   "source": [
    "query = \"\"\"\n",
    "SELECT \n",
    "    table_name, \n",
    "    table_rows \n",
    "FROM \n",
    "    INFORMATION_SCHEMA.TABLES\n",
    "WHERE TABLE_SCHEMA = 'simap' AND table_name in ('zuschlag', 'ausschreibung', 'anbieter', 'auftraggeber', 'cpv_dokument', 'projekt');\n",
    "\"\"\"\n",
    "desc = pd.read_sql(query, connection)\n",
    "desc"
   ]
  },
  {
   "cell_type": "code",
   "execution_count": null,
   "metadata": {},
   "outputs": [],
   "source": [
    "desc.plot()"
   ]
  },
  {
   "cell_type": "code",
   "execution_count": null,
   "metadata": {},
   "outputs": [],
   "source": [
    "test_df = full_df.copy()"
   ]
  },
  {
   "cell_type": "code",
   "execution_count": null,
   "metadata": {},
   "outputs": [],
   "source": [
    "def tonumeric(val):\n",
    "    try:\n",
    "        return int(val)\n",
    "    except:\n",
    "        return 0\n",
    "        \n",
    "test_df[['anbieter_plz']] = test_df[['anbieter_plz']].applymap(tonumeric)"
   ]
  },
  {
   "cell_type": "code",
   "execution_count": null,
   "metadata": {},
   "outputs": [],
   "source": [
    "pd.DataFrame(test_df.anbieter_plz.value_counts())"
   ]
  },
  {
   "cell_type": "code",
   "execution_count": null,
   "metadata": {},
   "outputs": [],
   "source": [
    "plz_df = test_df[(test_df['anbieter_plz']<=9999) & (test_df['anbieter_plz']>=1000)]"
   ]
  },
  {
   "cell_type": "code",
   "execution_count": null,
   "metadata": {},
   "outputs": [],
   "source": [
    "def plotCluster(df):\n",
    "    \n",
    "    filtered_df = df[['cpv_nummer','anbieter_plz']]\n",
    "    scaler = StandardScaler().fit(filtered_df)\n",
    "    cpv_filtered_z = scaler.transform(filtered_df)\n",
    "\n",
    "    kmeans = KMeans().fit(cpv_filtered_z)\n",
    "    y_means = kmeans.predict(cpv_filtered_z)\n",
    "\n",
    "    df.plot.scatter(x='anbieter_plz',y='cpv_nummer', c=y_means, cmap='viridis' )\n",
    "    df['label']=y_means\n",
    "\n",
    "\n"
   ]
  },
  {
   "cell_type": "code",
   "execution_count": null,
   "metadata": {},
   "outputs": [],
   "source": [
    "plotCluster(plz_df)"
   ]
  },
  {
   "cell_type": "code",
   "execution_count": null,
   "metadata": {},
   "outputs": [],
   "source": [
    "plz_df"
   ]
  },
  {
   "cell_type": "code",
   "execution_count": null,
   "metadata": {},
   "outputs": [],
   "source": [
    "selects = (\n",
    "    \"anbieter.anbieter_id, \"\n",
    "    \"cpv_dokument.cpv_nummer AS anbieter_cpv\"\n",
    ")\n",
    "\n",
    "query = \"\"\"\n",
    "        SELECT {} from ((((((beruecksichtigteanbieter_zuschlag\n",
    "        INNER JOIN zuschlag ON zuschlag.meldungsnummer = beruecksichtigteanbieter_zuschlag.meldungsnummer)\n",
    "        INNER JOIN anbieter ON beruecksichtigteanbieter_zuschlag.anbieter_id = anbieter.anbieter_id)\n",
    "        INNER JOIN projekt ON zuschlag.projekt_id = projekt.projekt_id)\n",
    "        INNER JOIN auftraggeber ON projekt.auftraggeber_id = auftraggeber.auftraggeber_id)\n",
    "        INNER JOIN ausschreibung ON projekt.projekt_id = ausschreibung.projekt_id)\n",
    "        INNER JOIN cpv_dokument ON cpv_dokument.meldungsnummer = zuschlag.meldungsnummer)\n",
    "        WHERE anbieter.anbieter_id = 1;\n",
    "        ;\n",
    "\"\"\".format(selects)\n",
    "\n",
    "df = pd.read_sql(query, connection)\n",
    "df"
   ]
  },
  {
   "cell_type": "code",
   "execution_count": null,
   "metadata": {},
   "outputs": [],
   "source": [
    "selects = (\n",
    "    \"anbieter.anbieter_id, \"\n",
    "    \"cpv_dokument.cpv_nummer as ausschreibung_cpv\"\n",
    ")\n",
    "\n",
    "query = \"\"\"\n",
    "        SELECT DISTINCT {} from ((((((beruecksichtigteanbieter_zuschlag\n",
    "        INNER JOIN zuschlag ON zuschlag.meldungsnummer = beruecksichtigteanbieter_zuschlag.meldungsnummer)\n",
    "        INNER JOIN anbieter ON beruecksichtigteanbieter_zuschlag.anbieter_id = anbieter.anbieter_id)\n",
    "        INNER JOIN projekt ON zuschlag.projekt_id = projekt.projekt_id)\n",
    "        INNER JOIN auftraggeber ON projekt.auftraggeber_id = auftraggeber.auftraggeber_id)\n",
    "        INNER JOIN ausschreibung ON projekt.projekt_id = ausschreibung.projekt_id)\n",
    "        INNER JOIN cpv_dokument ON cpv_dokument.meldungsnummer = ausschreibung.meldungsnummer)\n",
    "        WHERE anbieter.anbieter_id = 1;\n",
    "        ;\n",
    "\"\"\".format(selects)\n",
    "\n",
    "df = pd.read_sql(query, connection)\n",
    "df"
   ]
  },
  {
   "cell_type": "code",
   "execution_count": null,
   "metadata": {},
   "outputs": [],
   "source": [
    "select1 = (\n",
    "    \"anbieter.anbieter_id, \"\n",
    "    \"cpv_dokument.cpv_nummer as anbieter_cpv\"\n",
    ")\n",
    "select2 = (\n",
    "    \"anbieter.anbieter_id, \"\n",
    "    \"cpv_dokument.cpv_nummer as ausschreibung_cpv\"\n",
    ")\n",
    "\n",
    "query = \"\"\"\n",
    "    SELECT * FROM (SELECT DISTINCT {} from ((((((beruecksichtigteanbieter_zuschlag\n",
    "        INNER JOIN zuschlag ON zuschlag.meldungsnummer = beruecksichtigteanbieter_zuschlag.meldungsnummer)\n",
    "        INNER JOIN anbieter ON beruecksichtigteanbieter_zuschlag.anbieter_id = anbieter.anbieter_id)\n",
    "        INNER JOIN projekt ON zuschlag.projekt_id = projekt.projekt_id)\n",
    "        INNER JOIN auftraggeber ON projekt.auftraggeber_id = auftraggeber.auftraggeber_id)\n",
    "        INNER JOIN ausschreibung ON projekt.projekt_id = ausschreibung.projekt_id)\n",
    "        INNER JOIN cpv_dokument ON cpv_dokument.meldungsnummer = zuschlag.meldungsnummer)\n",
    "        WHERE anbieter.anbieter_id = 1\n",
    "    ) zuschlag\n",
    "    JOIN (SELECT DISTINCT {} from ((((((beruecksichtigteanbieter_zuschlag\n",
    "        INNER JOIN zuschlag ON zuschlag.meldungsnummer = beruecksichtigteanbieter_zuschlag.meldungsnummer)\n",
    "        INNER JOIN anbieter ON beruecksichtigteanbieter_zuschlag.anbieter_id = anbieter.anbieter_id)\n",
    "        INNER JOIN projekt ON zuschlag.projekt_id = projekt.projekt_id)\n",
    "        INNER JOIN auftraggeber ON projekt.auftraggeber_id = auftraggeber.auftraggeber_id)\n",
    "        INNER JOIN ausschreibung ON projekt.projekt_id = ausschreibung.projekt_id)\n",
    "        INNER JOIN cpv_dokument ON cpv_dokument.meldungsnummer = ausschreibung.meldungsnummer)\n",
    "        INNER JOIN cpv on cpv.cpv_nummer = cpv_dokument.cpv_nummer\n",
    "        WHERE anbieter.anbieter_id = 1\n",
    "    ) ausschreibung ON ausschreibung.anbieter_id = zuschlag.anbieter_id\n",
    "    ;\n",
    "\"\"\".format(select1, select2)\n",
    "\n",
    "df = pd.read_sql(query, connection)\n",
    "df"
   ]
  },
  {
   "cell_type": "code",
   "execution_count": null,
   "metadata": {},
   "outputs": [],
   "source": [
    "df['match'] = True\n",
    "df"
   ]
  },
  {
   "cell_type": "code",
   "execution_count": null,
   "metadata": {},
   "outputs": [],
   "source": []
  },
  {
   "cell_type": "code",
   "execution_count": null,
   "metadata": {},
   "outputs": [],
   "source": []
  },
  {
   "cell_type": "code",
   "execution_count": null,
   "metadata": {},
   "outputs": [],
   "source": [
    "full_df.columns"
   ]
  },
  {
   "cell_type": "code",
   "execution_count": null,
   "metadata": {},
   "outputs": [],
   "source": [
    "selects = \"anbieter.institution as inst, zuschlag.*, projekt.*, auftraggeber.*, ausschreibung.*, cpv_dokument.*\"\n",
    "\n",
    "query = \"\"\"select {} from ((((((beruecksichtigteanbieter_zuschlag\n",
    "    INNER JOIN zuschlag ON zuschlag.meldungsnummer = beruecksichtigteanbieter_zuschlag.meldungsnummer)\n",
    "    INNER JOIN anbieter ON beruecksichtigteanbieter_zuschlag.anbieter_id = anbieter.anbieter_id)\n",
    "    INNER JOIN projekt ON zuschlag.projekt_id = projekt.projekt_id)\n",
    "    INNER JOIN auftraggeber ON projekt.auftraggeber_id = auftraggeber.auftraggeber_id)\n",
    "    INNER JOIN ausschreibung ON projekt.projekt_id = ausschreibung.projekt_id)\n",
    "    INNER JOIN cpv_dokument ON cpv_dokument.meldungsnummer = zuschlag.meldungsnummer)\n",
    "    ;\n",
    "\"\"\".format(selects)\n",
    "\n",
    "full_df = pd.read_sql(query, connection)\n",
    "full_df"
   ]
  },
  {
   "cell_type": "code",
   "execution_count": null,
   "metadata": {},
   "outputs": [],
   "source": [
    "full_df[full_df['inst']==\"Adecco AG\"]['cpv_nummer'].value_counts()"
   ]
  },
  {
   "cell_type": "code",
   "execution_count": null,
   "metadata": {},
   "outputs": [],
   "source": []
  }
 ],
 "metadata": {
  "kernelspec": {
   "display_name": "Python 3",
   "language": "python",
   "name": "python3"
  },
  "language_info": {
   "codemirror_mode": {
    "name": "ipython",
    "version": 3
   },
   "file_extension": ".py",
   "mimetype": "text/x-python",
   "name": "python",
   "nbconvert_exporter": "python",
   "pygments_lexer": "ipython3",
   "version": "3.6.1"
  }
 },
 "nbformat": 4,
 "nbformat_minor": 2
}
