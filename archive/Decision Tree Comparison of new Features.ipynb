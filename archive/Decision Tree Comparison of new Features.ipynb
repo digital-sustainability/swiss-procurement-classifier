{
 "cells": [
  {
   "cell_type": "code",
   "execution_count": null,
   "metadata": {},
   "outputs": [],
   "source": [
    "%matplotlib inline\n",
    "import math\n",
    "import matplotlib.pyplot as plt\n",
    "from sklearn import tree\n",
    "from db import connection, engine\n",
    "from sklearn.model_selection import train_test_split\n",
    "from sklearn.metrics import confusion_matrix, accuracy_score, roc_curve, auc\n",
    "import pandas as pd\n",
    "import numpy as np\n",
    "import helpers as fdn"
   ]
  },
  {
   "cell_type": "code",
   "execution_count": null,
   "metadata": {},
   "outputs": [],
   "source": [
    "select_an = (\n",
    "    \"anbieter.anbieter_id, \"\n",
    "    \"anbieter.anbieter_plz, \"\n",
    "    \"anbieter.institution as anbieter_insitution, \"\n",
    "    \"cpv_dokument.cpv_nummer as anbieter_cpv, \"\n",
    "    \"ausschreibung.meldungsnummer\"\n",
    ")\n",
    "# anbieter_CPV are all the CPVs the Anbieter ever won a procurement for. So all the CPVs they are interested in. \n",
    "select_aus = (\n",
    "    \"anbieter.anbieter_id, \"\n",
    "    \"auftraggeber.institution as beschaffungsstelle_institution, \"\n",
    "    \"auftraggeber.beschaffungsstelle_plz, \"\n",
    "    \"ausschreibung.gatt_wto, \"\n",
    "    \"cpv_dokument.cpv_nummer as ausschreibung_cpv, \"\n",
    "    \"ausschreibung.meldungsnummer\"\n",
    ")"
   ]
  },
  {
   "cell_type": "code",
   "execution_count": null,
   "metadata": {},
   "outputs": [],
   "source": [
    "# TODO: Create lists containing different amounts of won Ausschreibungen. <10, 10––20, 20-30, 30-40, 40-50, 50-60, 50-100, 100-150, 100-200, >150"
   ]
  },
  {
   "cell_type": "code",
   "execution_count": null,
   "metadata": {},
   "outputs": [],
   "source": [
    "# Count how often an Institution is occurig as Anbieter / how many they have won\n",
    "# tmp = pd.DataFrame(data_an[\"anbieter_institution\"].value_counts())\n",
    "# tmp[tmp[\"anbieter_institution\"]< 191]"
   ]
  },
  {
   "cell_type": "code",
   "execution_count": null,
   "metadata": {},
   "outputs": [],
   "source": [
    "# TODO Test different sets\n"
   ]
  },
  {
   "cell_type": "code",
   "execution_count": null,
   "metadata": {},
   "outputs": [],
   "source": [
    "# Create a df wit all negative and all positive respones for a specific Anbieter\n",
    "df_pos_full, df_neg_full = fdn.createAnbieterDf(select_an, select_aus, \"Adecco AG\")"
   ]
  },
  {
   "cell_type": "code",
   "execution_count": null,
   "metadata": {},
   "outputs": [],
   "source": [
    "positives_count = len(df_pos_full)\n",
    "step = math.ceil(positives_count / 10)\n",
    "max_negative_count = step * 100"
   ]
  },
  {
   "cell_type": "code",
   "execution_count": null,
   "metadata": {},
   "outputs": [],
   "source": [
    "# TODO insert for 50000 --> len(df_neg_full) modulo...\n",
    "\n",
    "positives_count = len(df_pos_full)\n",
    "step = math.ceil(positives_count / 10)\n",
    "max_negative_count = step * 100\n",
    "\n",
    "# Create list placeholders\n",
    "precision, pos_neg_ratio, confusion_matrices, fns, fps = ([] for i in range(5))\n",
    "\n",
    "# run the decison tree\n",
    "for i in range(positives_count, max_negative_count, step):\n",
    "    x, y, z = fdn.decisionTreeRun(df_pos_full, df_neg_full , i)\n",
    "    precision.append(x)\n",
    "    pos_neg_ratio.append(y)\n",
    "    confusion_matrices.append(z)\n",
    "    fns.append(z[1][0])\n",
    "    fps.append(z[0][1])"
   ]
  },
  {
   "cell_type": "code",
   "execution_count": null,
   "metadata": {},
   "outputs": [],
   "source": [
    "plt.plot(range(positives_count, max_negative_count, step), fns)"
   ]
  },
  {
   "cell_type": "code",
   "execution_count": null,
   "metadata": {},
   "outputs": [],
   "source": [
    "plt.plot(range(positives_count, max_negative_count, step), fps)"
   ]
  },
  {
   "cell_type": "code",
   "execution_count": null,
   "metadata": {},
   "outputs": [],
   "source": []
  }
 ],
 "metadata": {
  "kernelspec": {
   "display_name": "Python 3",
   "language": "python",
   "name": "python3"
  },
  "language_info": {
   "codemirror_mode": {
    "name": "ipython",
    "version": 3
   },
   "file_extension": ".py",
   "mimetype": "text/x-python",
   "name": "python",
   "nbconvert_exporter": "python",
   "pygments_lexer": "ipython3",
   "version": "3.6.1"
  }
 },
 "nbformat": 4,
 "nbformat_minor": 2
}
