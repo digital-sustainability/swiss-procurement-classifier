{
 "cells": [
  {
   "cell_type": "markdown",
   "metadata": {},
   "source": [
    "# TODOS\n",
    "If there are Todo items or general comments, let's write them on the top of the cell in a separeted comment starting with TODO"
   ]
  },
  {
   "cell_type": "code",
   "execution_count": null,
   "metadata": {},
   "outputs": [],
   "source": [
    "%matplotlib inline\n",
    "import matplotlib.pyplot as plt\n",
    "from sklearn import tree\n",
    "from db import connection, engine\n",
    "from sklearn.model_selection import train_test_split\n",
    "from sklearn.metrics import confusion_matrix, accuracy_score, roc_curve, auc\n",
    "import pandas as pd\n",
    "import numpy as np\n",
    "import helpers as fdn"
   ]
  },
  {
   "cell_type": "code",
   "execution_count": null,
   "metadata": {},
   "outputs": [],
   "source": [
    "# What to select for Anbieter\n",
    "selects_an = (\n",
    "    'anbieter.anbieter_id, '\n",
    "    'anbieter.anbieter_plz, '\n",
    "    'anbieter.institution as anbieter_institution, '\n",
    "    'zuschlag.preis, '\n",
    "    'zuschlag.gatt_wto, '\n",
    "    'zuschlag.anzahl_angebote, ' \n",
    "#    'auftraggeber.institution as beschaffungsstelle_institution, ' # maybe\n",
    "#    'auftraggeber.beschaffungsstelle_plz, ' # maybe\n",
    "#    'projekt.projekt_titel, '\n",
    "    'cpv_dokument.cpv_nummer,'\n",
    "    'cpv.cpv_deutsch'\n",
    ")\n",
    "\n",
    "# What to select for Ausschreibung\n",
    "selects_aus = (\n",
    "    'anbieter.anbieter_id, '\n",
    "    'ausschreibung.gatt_wto, '\n",
    "    'auftraggeber.institution as beschaffungsstelle_institution, '\n",
    "    'auftraggeber.beschaffungsstelle_plz, '\n",
    "    'cpv_dokument.cpv_nummer, '\n",
    "    'cpv.cpv_deutsch')\n",
    "\n",
    "data_an = fdn.getFromSimap(selects_an)\n",
    "data_aus = fdn.getFromSimap(selects_aus)\n",
    "cpvRegister = fdn.getCpvRegister()"
   ]
  },
  {
   "cell_type": "code",
   "execution_count": null,
   "metadata": {},
   "outputs": [],
   "source": [
    "data_an.head()"
   ]
  },
  {
   "cell_type": "code",
   "execution_count": null,
   "metadata": {},
   "outputs": [],
   "source": [
    "data_aus.head()"
   ]
  },
  {
   "cell_type": "code",
   "execution_count": null,
   "metadata": {},
   "outputs": [],
   "source": [
    "data_an.anzahl_angebote.value_counts()"
   ]
  },
  {
   "cell_type": "code",
   "execution_count": null,
   "metadata": {},
   "outputs": [],
   "source": [
    "adecco = pd.DataFrame(data_an[\"anbieter_institution\"] == \"Adecco AG\")"
   ]
  },
  {
   "cell_type": "code",
   "execution_count": null,
   "metadata": {},
   "outputs": [],
   "source": [
    "adecco[\"anbieter_institution\"].value_counts()"
   ]
  },
  {
   "cell_type": "code",
   "execution_count": null,
   "metadata": {},
   "outputs": [],
   "source": [
    "# Count how often an Institution is occurig as Anbieter / how many they have won\n",
    "tmp = pd.DataFrame(data_an[\"anbieter_institution\"].value_counts())\n",
    "tmp[tmp[\"anbieter_institution\"]> 100]"
   ]
  },
  {
   "cell_type": "code",
   "execution_count": null,
   "metadata": {},
   "outputs": [],
   "source": [
    "fdn.getCpvCount('Swisscom')"
   ]
  },
  {
   "cell_type": "code",
   "execution_count": null,
   "metadata": {},
   "outputs": [],
   "source": [
    "fdn.getCpvDiversity('Adecco AG')\n"
   ]
  },
  {
   "cell_type": "code",
   "execution_count": null,
   "metadata": {},
   "outputs": [],
   "source": [
    "select_an = (\n",
    "    \"anbieter.anbieter_id, \"\n",
    "    \"anbieter.anbieter_plz, \"\n",
    "    \"anbieter.institution as anbieter_insitution, \"\n",
    "    \"cpv_dokument.cpv_nummer as anbieter_cpv, \"\n",
    "    \"ausschreibung.meldungsnummer\"\n",
    ")\n",
    "# anbieter_CPV are all the CPVs the Anbieter ever won a procurement for. So all the CPVs they are interested in. \n",
    "select_aus = (\n",
    "    \"anbieter.anbieter_id, \"\n",
    "    \"auftraggeber.institution as beschaffungsstelle_institution, \"\n",
    "    \"auftraggeber.beschaffungsstelle_plz, \"\n",
    "    \"ausschreibung.gatt_wto, \"\n",
    "    \"cpv_dokument.cpv_nummer as ausschreibung_cpv, \"\n",
    "    \"ausschreibung.meldungsnummer\"\n",
    ")\n",
    "# ausschreibung_cpv\n",
    "data_pos = fdn.getResponses(select_an, select_aus, \"Adecco AG\", True)\n",
    "df_pos = data_pos.copy()"
   ]
  },
  {
   "cell_type": "code",
   "execution_count": null,
   "metadata": {},
   "outputs": [],
   "source": [
    "# Display DF properties\n",
    "print(df_pos.describe())"
   ]
  },
  {
   "cell_type": "code",
   "execution_count": null,
   "metadata": {},
   "outputs": [],
   "source": [
    "# TODO: Check effect without changing the PLZ\n",
    "\n",
    "# Change Postleitzahl into a similar format. Unidentifiable PLZs will result in 0 \n",
    "df_pos[['anbieter_plz']] = df_pos[['anbieter_plz']].applymap(fdn.tonumeric)\n",
    "df_pos[['beschaffungsstelle_plz']] = df_pos[['beschaffungsstelle_plz']].applymap(fdn.tonumeric)"
   ]
  },
  {
   "cell_type": "code",
   "execution_count": null,
   "metadata": {},
   "outputs": [],
   "source": [
    "df_pos.describe()"
   ]
  },
  {
   "cell_type": "code",
   "execution_count": null,
   "metadata": {},
   "outputs": [],
   "source": [
    "# TODO add a nicer plot version to paper\n",
    "\n",
    "# Plot the diversity in CPV\n",
    "grouped_df = df_pos.groupby(['anbieter_cpv']).size()\n",
    "total = sum(grouped_df)\n",
    "grouped_df.plot.pie(figsize=(6,6), autopct=lambda p: '{:.0f}'.format(p * total / 100))"
   ]
  },
  {
   "cell_type": "code",
   "execution_count": null,
   "metadata": {},
   "outputs": [],
   "source": [
    "# TODO create a faster data_neg if selecting randomly from beginning instead of first selecting all, then subselecting randomly. Depends on how we use the final app --> Create one DF per day?.\n",
    "\n",
    "# Create a new DF containing all the negative responses. Here, the ones not containing \"Adecco AG\"\n",
    "data_neg = fdn.getResponses(select_an, select_aus, \"Adecco AG\", False)\n",
    "df_neg_full = data_neg.copy()"
   ]
  },
  {
   "cell_type": "code",
   "execution_count": null,
   "metadata": {},
   "outputs": [],
   "source": [
    "# TODO Take different sample sizes & T/F-Ratios into account while testing models. Refactor size and ratio choice into function?\n",
    "\n",
    "# Create a random DF subset ussed to train the model on\n",
    "df_neg= df_neg_full.sample(8000)"
   ]
  },
  {
   "cell_type": "code",
   "execution_count": null,
   "metadata": {},
   "outputs": [],
   "source": [
    "# Show the CPV diversity\n",
    "df_pos.ausschreibung_cpv.value_counts()"
   ]
  },
  {
   "cell_type": "code",
   "execution_count": null,
   "metadata": {},
   "outputs": [],
   "source": [
    "# Count positive sample size\n",
    "len(df_pos.index)"
   ]
  },
  {
   "cell_type": "code",
   "execution_count": null,
   "metadata": {},
   "outputs": [],
   "source": [
    "# Assign pos/neg lables to both DFs\n",
    "df_pos['Y']=1\n",
    "df_neg['Y']=0"
   ]
  },
  {
   "cell_type": "code",
   "execution_count": null,
   "metadata": {},
   "outputs": [],
   "source": [
    "# Merge the DFs into one\n",
    "df_appended = df_pos.append(df_neg, ignore_index=True)"
   ]
  },
  {
   "cell_type": "code",
   "execution_count": null,
   "metadata": {},
   "outputs": [],
   "source": [
    "# Clean PLZ property\n",
    "df_appended[['anbieter_plz']] = df_appended[['anbieter_plz']].applymap(fdn.tonumeric)\n",
    "df_appended[['beschaffungsstelle_plz']] = df_appended[['beschaffungsstelle_plz']].applymap(fdn.tonumeric)"
   ]
  },
  {
   "cell_type": "code",
   "execution_count": null,
   "metadata": {},
   "outputs": [],
   "source": [
    "# Shuffle the df\n",
    "df_tree = df_appended.sample(frac=1)\n",
    "len(df_tree.index)"
   ]
  },
  {
   "cell_type": "code",
   "execution_count": null,
   "metadata": {},
   "outputs": [],
   "source": [
    "# Put responses in one arry and all diesired properties in another\n",
    "y = df_tree.iloc[:,[11]]\n",
    "x = df_tree.iloc[:,[1,3,7,9]]"
   ]
  },
  {
   "cell_type": "code",
   "execution_count": null,
   "metadata": {},
   "outputs": [],
   "source": [
    "print(x.head())\n",
    "print(y.head())"
   ]
  },
  {
   "cell_type": "code",
   "execution_count": null,
   "metadata": {},
   "outputs": [],
   "source": [
    "xtrain, xtest, ytrain, ytest = train_test_split(x, y, test_size=0.25)"
   ]
  },
  {
   "cell_type": "code",
   "execution_count": null,
   "metadata": {},
   "outputs": [],
   "source": [
    "# train the model on training sets\n",
    "clf = tree.DecisionTreeClassifier()\n",
    "clf = clf.fit(xtrain, ytrain)"
   ]
  },
  {
   "cell_type": "code",
   "execution_count": null,
   "metadata": {},
   "outputs": [],
   "source": [
    "# predict on the test sets\n",
    "res = clf.predict(xtest)"
   ]
  },
  {
   "cell_type": "code",
   "execution_count": null,
   "metadata": {},
   "outputs": [],
   "source": [
    "ytest[\"res\"]= res\n",
    "ytest['richtig'] = ytest['res']==ytest['Y']"
   ]
  },
  {
   "cell_type": "code",
   "execution_count": null,
   "metadata": {},
   "outputs": [],
   "source": [
    "ytest.richtig.value_counts()"
   ]
  },
  {
   "cell_type": "code",
   "execution_count": null,
   "metadata": {},
   "outputs": [],
   "source": [
    "ytest[ytest[\"richtig\"]==False]"
   ]
  },
  {
   "cell_type": "code",
   "execution_count": null,
   "metadata": {},
   "outputs": [],
   "source": [
    "tp = ytest[(ytest['Y']==1) & (ytest['res']==1)]\n",
    "tn = ytest[(ytest['Y']==0) & (ytest['res']==0)]\n",
    "fp = ytest[(ytest['Y']==0) & (ytest['res']==1)]\n",
    "fn = ytest[(ytest['Y']==1) & (ytest['res']==0)]\n",
    "\n",
    "# Metrics: Confusion Matrix\n",
    "# Columns: Actual class (F,T), rows: Prected class (F,T)\n",
    "confusion_matrix(ytest.Y, res)"
   ]
  },
  {
   "cell_type": "code",
   "execution_count": null,
   "metadata": {},
   "outputs": [],
   "source": [
    "# Calculate classification accuracy / accuracy score\n",
    "acc = (len(tp) + len(tn)) / (len(tp) + len(tn) + len(fp) + len(fn))\n",
    "print('Accuracy: {:0.5f}'.format(acc))"
   ]
  },
  {
   "cell_type": "code",
   "execution_count": null,
   "metadata": {},
   "outputs": [],
   "source": [
    "# Calculate classification accuracy / accuracy score\n",
    "print('Accuracy: {:0.5f}'.format(accuracy_score(ytest.Y, res)))"
   ]
  },
  {
   "cell_type": "code",
   "execution_count": null,
   "metadata": {},
   "outputs": [],
   "source": [
    "fpr, tpr, thresholds = roc_curve(ytest.Y, res)\n",
    "print(fpr, tpr, thresholds)"
   ]
  },
  {
   "cell_type": "code",
   "execution_count": null,
   "metadata": {},
   "outputs": [],
   "source": [
    "fpr"
   ]
  },
  {
   "cell_type": "code",
   "execution_count": null,
   "metadata": {},
   "outputs": [],
   "source": [
    "# Compute Area Under the Curve (AUC)\n",
    "auc(fpr, tpr)"
   ]
  },
  {
   "cell_type": "code",
   "execution_count": null,
   "metadata": {},
   "outputs": [],
   "source": [
    "# True positive rate (sensitivity, recall, correctly identified)\n",
    "tpr = len(tp) / (len(tp) + len(fn))\n",
    "print('True Positive Rate: {:0.4f}'.format(tpr*100))"
   ]
  },
  {
   "cell_type": "code",
   "execution_count": null,
   "metadata": {},
   "outputs": [],
   "source": [
    "# False positive rate (\"false alarm rate\")\n",
    "fpr = len(fp) / (len(fp) + len(tn))\n",
    "print('False Positive Rate: {:0.4f}'.format(fpr*100))"
   ]
  },
  {
   "cell_type": "code",
   "execution_count": null,
   "metadata": {},
   "outputs": [],
   "source": [
    "# TODO How do we want to proceed with the different anieter_cpv and ausschreibung_cpv?\n",
    "len(df_pos.query('anbieter_cpv != ausschreibung_cpv'))"
   ]
  },
  {
   "cell_type": "code",
   "execution_count": null,
   "metadata": {},
   "outputs": [],
   "source": [
    "# cpvRegister.loc[cpvRegister['cpv_nummer'] == 75120000, ['cpv_nummer', 'cpv_deutsch']]\n",
    "\n",
    "def viewFalseResponses(resp, key):\n",
    "    d = {\n",
    "        'cpv_nummer': [],\n",
    "        'cpv_deutsch': []\n",
    "    }\n",
    "    for i in resp.index.tolist():\n",
    "        d['cpv_nummer'].append(cpvRegister.loc[cpvRegister['cpv_nummer'] == df_tree.loc[i][key], 'cpv_nummer'].item())\n",
    "        d['cpv_deutsch'].append(cpvRegister.loc[cpvRegister['cpv_nummer'] == df_tree.loc[i][key], 'cpv_deutsch'].item())\n",
    "    return pd.DataFrame(data=d)"
   ]
  },
  {
   "cell_type": "code",
   "execution_count": null,
   "metadata": {},
   "outputs": [],
   "source": [
    "viewFalseResponses(fp, 'anbieter_cpv')"
   ]
  },
  {
   "cell_type": "code",
   "execution_count": null,
   "metadata": {},
   "outputs": [],
   "source": []
  }
 ],
 "metadata": {
  "kernelspec": {
   "display_name": "Python 3",
   "language": "python",
   "name": "python3"
  },
  "language_info": {
   "codemirror_mode": {
    "name": "ipython",
    "version": 3
   },
   "file_extension": ".py",
   "mimetype": "text/x-python",
   "name": "python",
   "nbconvert_exporter": "python",
   "pygments_lexer": "ipython3",
   "version": "3.7.0"
  }
 },
 "nbformat": 4,
 "nbformat_minor": 2
}
