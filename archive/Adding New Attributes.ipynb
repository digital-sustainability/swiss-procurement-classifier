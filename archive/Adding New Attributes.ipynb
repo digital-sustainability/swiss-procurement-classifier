{
 "cells": [
  {
   "cell_type": "code",
   "execution_count": null,
   "metadata": {},
   "outputs": [],
   "source": [
    "%matplotlib inline\n",
    "import math\n",
    "import matplotlib.pyplot as plt\n",
    "from sklearn import tree\n",
    "from db import connection, engine\n",
    "from sklearn.model_selection import train_test_split\n",
    "from sklearn.metrics import confusion_matrix, accuracy_score, roc_curve, auc\n",
    "import pandas as pd\n",
    "import numpy as np\n",
    "import helpers as fdn\n",
    "import pixiedust"
   ]
  },
  {
   "cell_type": "code",
   "execution_count": null,
   "metadata": {},
   "outputs": [],
   "source": [
    "select_an = (\n",
    "    \"anbieter.anbieter_id, \"\n",
    "    \"anbieter.anbieter_plz, \"\n",
    "    \"zuschlag.preis, \" # Werden Zuschläge je relevant?? Die haben wir ja nur zur Model Bildung, aber dann nie mehr\n",
    "    \"zuschlag.gatt_wto, \"\n",
    "    \"zuschlag.anzahl_angebote, \" \n",
    "    \"anbieter.institution as anbieter_insitution, \"\n",
    "    \"cpv_dokument.cpv_nummer as anbieter_cpv, \"\n",
    "    \"ausschreibung.meldungsnummer\"\n",
    ")\n",
    "# anbieter_CPV are all the CPVs the Anbieter ever won a procurement for. So all the CPVs they are interested in. \n",
    "select_aus = (\n",
    "    \"anbieter.anbieter_id, \"\n",
    "    \"auftraggeber.institution as beschaffungsstelle_institution, \"\n",
    "    \"auftraggeber.beschaffungsstelle_plz, \"\n",
    "    \"ausschreibung.gatt_wto, \"\n",
    "    \"cpv_dokument.cpv_nummer as ausschreibung_cpv, \"\n",
    "    \"ausschreibung.meldungsnummer\"\n",
    ")"
   ]
  },
  {
   "cell_type": "code",
   "execution_count": null,
   "metadata": {},
   "outputs": [],
   "source": [
    "data_an = fdn.getFromSimap(select_an)\n",
    "data_aus = fdn.getFromSimap(select_aus)"
   ]
  },
  {
   "cell_type": "code",
   "execution_count": null,
   "metadata": {},
   "outputs": [],
   "source": [
    "data_an.head()"
   ]
  },
  {
   "cell_type": "markdown",
   "metadata": {},
   "source": [
    "## Ausschreibung: Anzahl Angebote (done)\n",
    "Not numerical are set to 0"
   ]
  },
  {
   "cell_type": "code",
   "execution_count": null,
   "metadata": {},
   "outputs": [],
   "source": [
    "# TODO: Check why so many have to be set to 0. (Currently 8012)\n",
    "\n",
    "# Datacleaning for anzahl_angebote finished like this.\n",
    "data_an[['anzahl_angebote']] = data_an[['anzahl_angebote']].applymap(fdn.tonumeric)"
   ]
  },
  {
   "cell_type": "markdown",
   "metadata": {},
   "source": [
    "## Ausschreibung: Preis (done)\n",
    "Kategorien von jeweils 100'000?"
   ]
  },
  {
   "cell_type": "code",
   "execution_count": null,
   "metadata": {},
   "outputs": [],
   "source": [
    "data_an[data_an['preis'] > 1000000]"
   ]
  },
  {
   "cell_type": "code",
   "execution_count": null,
   "metadata": {},
   "outputs": [],
   "source": [
    "tmp = data_an[data_an['preis']<1000000000]\n",
    "plt.plot(tmp['preis'].value_counts())\n",
    "plt.ylabel('Occurences')\n",
    "plt.xlabel('Price < 1 Bn (* 10^8)')\n",
    "plt.show()"
   ]
  },
  {
   "cell_type": "code",
   "execution_count": null,
   "metadata": {},
   "outputs": [],
   "source": [
    "# TODO: NOT WORKING --> DELETE\n",
    "\n",
    "# Map prices to 12 categories\n",
    "def createPriceCategory(v):\n",
    "    try:\n",
    "        v = int(v)\n",
    "    except:\n",
    "        v = 0\n",
    "    print(v)\n",
    "    switcher = {\n",
    "        (v <= 100000): 1,\n",
    "        ((v > 100000) and (v <= 250000)): 2,\n",
    "        ((v > 250000) and (v <= 500000)): 3,\n",
    "        ((v > 500000) and (v <= 750000)): 4,\n",
    "        ((v > 750000) and (v <= 1000000)): 5,\n",
    "        ((v > 1000000) and (v <= 5000000)): 6,\n",
    "        ((v > 5000000) and (v <= 10000000)): 7,\n",
    "        ((v > 10000000) and (v <= 25000000)): 8,\n",
    "        ((v > 25000000) and (v <= 50000000)): 9,\n",
    "        ((v > 50000000) and (v <= 100000000)): 10,\n",
    "        ((v > 100000000) and (v <= 200000000)): 11,\n",
    "        ((v > 200000000) and (v <= 500000000)): 12,\n",
    "        (v > 500000000): 13,\n",
    "    }\n",
    "    return switcher.get(v, 0)"
   ]
  },
  {
   "cell_type": "code",
   "execution_count": null,
   "metadata": {},
   "outputs": [],
   "source": [
    "# TODO: Kategorien mit Matthias absprechen\n",
    "\n",
    "# Map prices to 16 categories\n",
    "def createPriceCategory(v):\n",
    "    try:\n",
    "        v = int(v)\n",
    "    except:\n",
    "        v = -1\n",
    "    if v == 0:\n",
    "        return 0\n",
    "    if 0 < v <= 100000:\n",
    "        return 1\n",
    "    if 100000 < v <= 250000:\n",
    "        return 2\n",
    "    if 250000 < v <= 500000:\n",
    "        return 3\n",
    "    if 500000 < v <= 750000:\n",
    "        return 4\n",
    "    if 750000 < v <= 1000000:\n",
    "        return 5\n",
    "    if 1000000 < v <= 2500000:\n",
    "        return 6\n",
    "    if 2500000 < v <= 5000000:\n",
    "        return 7\n",
    "    if 5000000 < v <= 10000000:\n",
    "        return 8\n",
    "    if 10000000 < v <= 25000000:\n",
    "        return 9\n",
    "    if 25000000 < v <= 50000000:\n",
    "        return 10\n",
    "    if 50000000 < v <= 100000000:\n",
    "        return 11\n",
    "    if 100000000 < v <= 200000000:\n",
    "        return 12\n",
    "    if 200000000 < v <= 500000000:\n",
    "        return 13\n",
    "    if v > 500000000:\n",
    "        return 14\n",
    "    else:\n",
    "        return -1"
   ]
  },
  {
   "cell_type": "code",
   "execution_count": null,
   "metadata": {
    "pixiedust": {
     "displayParams": {}
    }
   },
   "outputs": [],
   "source": [
    "data_an[['preis_category']] = data_an[['preis']].applymap(createPriceCategory)"
   ]
  },
  {
   "cell_type": "code",
   "execution_count": null,
   "metadata": {},
   "outputs": [],
   "source": [
    "data_an.preis_category.value_counts()"
   ]
  },
  {
   "cell_type": "code",
   "execution_count": null,
   "metadata": {},
   "outputs": [],
   "source": [
    "data_an.preis.describe()"
   ]
  },
  {
   "cell_type": "markdown",
   "metadata": {},
   "source": [
    "## Ausschreibung: Gatt WTO (done)\n",
    "Set everything to either \"Yes\", \"No\" or \"?\""
   ]
  },
  {
   "cell_type": "code",
   "execution_count": null,
   "metadata": {},
   "outputs": [],
   "source": [
    "data_an.gatt_wto.value_counts()"
   ]
  },
  {
   "cell_type": "code",
   "execution_count": null,
   "metadata": {},
   "outputs": [],
   "source": [
    "def unifyGattWto(val):\n",
    "    switcher = {\n",
    "        'Ja': 'Yes',\n",
    "        'Sì': 'Yes',\n",
    "        'Nein': 'No',\n",
    "        'Nei': 'No'\n",
    "    }\n",
    "    return switcher.get(val, \"?\")"
   ]
  },
  {
   "cell_type": "code",
   "execution_count": null,
   "metadata": {},
   "outputs": [],
   "source": [
    "data_an[['gatt_wto']] = data_an[['gatt_wto']].applymap(unifyGattWto)"
   ]
  },
  {
   "cell_type": "code",
   "execution_count": null,
   "metadata": {},
   "outputs": [],
   "source": [
    "data_an.gatt_wto.value_counts()"
   ]
  },
  {
   "cell_type": "markdown",
   "metadata": {},
   "source": [
    "## Next"
   ]
  },
  {
   "cell_type": "code",
   "execution_count": null,
   "metadata": {},
   "outputs": [],
   "source": []
  },
  {
   "cell_type": "code",
   "execution_count": null,
   "metadata": {},
   "outputs": [],
   "source": []
  }
 ],
 "metadata": {
  "kernelspec": {
   "display_name": "Python 3",
   "language": "python",
   "name": "python3"
  },
  "language_info": {
   "codemirror_mode": {
    "name": "ipython",
    "version": 3
   },
   "file_extension": ".py",
   "mimetype": "text/x-python",
   "name": "python",
   "nbconvert_exporter": "python",
   "pygments_lexer": "ipython3",
   "version": "3.6.1"
  }
 },
 "nbformat": 4,
 "nbformat_minor": 2
}
