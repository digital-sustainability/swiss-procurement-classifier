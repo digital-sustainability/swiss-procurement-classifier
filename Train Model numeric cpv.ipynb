{
 "cells": [
  {
   "cell_type": "code",
   "execution_count": null,
   "metadata": {},
   "outputs": [],
   "source": [
    "%matplotlib inline\n",
    "import matplotlib.pyplot as plt\n",
    "import pandas as pd\n",
    "from train import ModelTrainer\n",
    "from collection import Collection"
   ]
  },
  {
   "cell_type": "code",
   "execution_count": null,
   "metadata": {},
   "outputs": [],
   "source": [
    "try:\n",
    "    collection\n",
    "except NameError:\n",
    "    collection = Collection()"
   ]
  },
  {
   "cell_type": "markdown",
   "metadata": {},
   "source": [
    "# Part 1: Setup Helpers (manual)\n",
    "\n",
    "## Persist current collection"
   ]
  },
  {
   "cell_type": "code",
   "execution_count": null,
   "metadata": {},
   "outputs": [],
   "source": [
    "collection.to_file('dbs/tune.json')"
   ]
  },
  {
   "cell_type": "markdown",
   "metadata": {},
   "source": [
    "## Restore from file (careful)\n",
    "\n",
    "In the next box you can restore a list of runs from a json file"
   ]
  },
  {
   "cell_type": "code",
   "execution_count": null,
   "metadata": {},
   "outputs": [],
   "source": [
    "collection.import_file('dbs/tune.json', force=True)"
   ]
  },
  {
   "cell_type": "markdown",
   "metadata": {},
   "source": [
    "## Reset model cache\n",
    "\n",
    "This needs to be done when a new query should be done e.g. anbieter has changed\n",
    "\n",
    "Maybe implement cache invalidation in ModelTrainer"
   ]
  },
  {
   "cell_type": "code",
   "execution_count": null,
   "metadata": {},
   "outputs": [],
   "source": [
    "trainer.resetSQLData()"
   ]
  },
  {
   "cell_type": "markdown",
   "metadata": {},
   "source": [
    "## set config"
   ]
  },
  {
   "cell_type": "code",
   "execution_count": null,
   "metadata": {},
   "outputs": [],
   "source": [
    "trainer.config = config"
   ]
  },
  {
   "cell_type": "markdown",
   "metadata": {},
   "source": [
    "## Set attributes in trainer"
   ]
  },
  {
   "cell_type": "markdown",
   "metadata": {},
   "source": [
    "# Part 2: Config"
   ]
  },
  {
   "cell_type": "code",
   "execution_count": null,
   "metadata": {},
   "outputs": [],
   "source": [
    "# Prepare Attributes\n",
    "def cleanData(df, filters):\n",
    "#    if 'beschaffungsstelle_plz' in filters:\n",
    "#        df[['beschaffungsstelle_plz']] = df[['beschaffungsstelle_plz']].applymap(ModelTrainer.tonumeric)\n",
    "    if 'gatt_wto' in filters:\n",
    "        df[['gatt_wto']] = df[['gatt_wto']].applymap(ModelTrainer.unifyYesNo)\n",
    "    if 'anzahl_angebote' in filters:\n",
    "        df[['anzahl_angebote']] = df[['anzahl_angebote']].applymap(ModelTrainer.tonumeric)\n",
    "    if 'teilangebote' in filters:\n",
    "        df[['teilangebote']] = df[['teilangebote']].applymap(ModelTrainer.unifyYesNo)\n",
    "    if 'lose' in filters:\n",
    "        df[['lose']] = df[['lose']].applymap(ModelTrainer.unifyYesNo)\n",
    "    if 'varianten' in filters:\n",
    "        df[['varianten']] = df[['varianten']].applymap(ModelTrainer.unifyYesNo)\n",
    "    if 'auftragsart_art' in filters:\n",
    "        auftrags_art_df = pd.get_dummies(df['auftragsart_art'], prefix='aftrgsrt',dummy_na=True)\n",
    "        df = pd.concat([df,auftrags_art_df],axis=1).drop(['auftragsart_art'],axis=1)\n",
    "    if 'sprache' in filters:\n",
    "        sprache_df = pd.get_dummies(df['sprache'], prefix='lang',dummy_na=True)\n",
    "        df = pd.concat([df,sprache_df],axis=1).drop(['sprache'],axis=1)\n",
    "    if 'auftragsart' in filters:\n",
    "        auftragsart_df = pd.get_dummies(df['auftragsart'], prefix='auftr',dummy_na=True)\n",
    "        df = pd.concat([df,auftragsart_df],axis=1).drop(['auftragsart'],axis=1)\n",
    "    if 'beschaffungsstelle_plz' in filters:\n",
    "        plz_df = pd.get_dummies(df['beschaffungsstelle_plz'], prefix='beschaffung_plz',dummy_na=True)\n",
    "        df = pd.concat([df,plz_df],axis=1).drop(['beschaffungsstelle_plz'],axis=1)\n",
    "    return df"
   ]
  },
  {
   "cell_type": "code",
   "execution_count": null,
   "metadata": {},
   "outputs": [],
   "source": [
    "select_anbieter = (\n",
    "    \"anbieter.anbieter_id, \"\n",
    "    \"anbieter.institution as anbieter_institution, \"\n",
    "    \"cpv_dokument.cpv_nummer as anbieter_cpv, \"\n",
    "    \"ausschreibung.meldungsnummer\"\n",
    ")\n",
    "# anbieter_CPV are all the CPVs the Anbieter ever won a procurement for. So all the CPVs they are interested in. \n",
    "select_ausschreibung = (\n",
    "    \"anbieter.anbieter_id, \"\n",
    "    \"auftraggeber.institution as beschaffungsstelle_institution, \"\n",
    "    \"auftraggeber.beschaffungsstelle_plz, \"\n",
    "    \"ausschreibung.gatt_wto, \"\n",
    "    \"ausschreibung.sprache, \"\n",
    "    \"ausschreibung.auftragsart, \"\n",
    "    \"ausschreibung.auftragsart_art, \"\n",
    "    \"ausschreibung.lose, \"\n",
    "    \"ausschreibung.teilangebote, \"\n",
    "    \"ausschreibung.varianten, \"\n",
    "   # \"ausschreibung.titel, \"\n",
    "    \"ausschreibung.bietergemeinschaft, \"\n",
    "    \"cpv_dokument.cpv_nummer as ausschreibung_cpv, \"\n",
    "    \"ausschreibung.meldungsnummer as meldungsnummer2\"\n",
    ")"
   ]
  },
  {
   "cell_type": "code",
   "execution_count": null,
   "metadata": {},
   "outputs": [],
   "source": [
    "config = {\n",
    "    # ratio that the positive and negative responses have to each other\n",
    "    'positive_to_negative_ratio': 0.5,\n",
    "    # Percentage of training set that is used for testing (Recommendation of at least 25%)\n",
    "    'test_size': 0.25,\n",
    "    'runs': 100,\n",
    "    #'enabled_algorithms': ['random_forest'],\n",
    "    'enabled_algorithms': ['random_forest', 'decision_tree', 'gradient_boost'],\n",
    "    'random_forest': {\n",
    "        # Tune Random Forest Parameter\n",
    "        'n_estimators': 400,\n",
    "        'max_features': 'sqrt',\n",
    "        'max_depth': None,\n",
    "        'min_samples_split': 2\n",
    "    },\n",
    "    'decision_tree': {\n",
    "        'max_depth': 6,\n",
    "        'max_features': 'sqrt'\n",
    "    },\n",
    "    'gradient_boost': {\n",
    "        'n_estimators': 100,\n",
    "        'learning_rate': 0.1,\n",
    "        'max_depth': 6,\n",
    "        'max_features': 'sqrt'\n",
    "    }\n",
    "}"
   ]
  },
  {
   "cell_type": "code",
   "execution_count": null,
   "metadata": {},
   "outputs": [],
   "source": [
    "try:\n",
    "    trainer\n",
    "except NameError:\n",
    "    trainer = ModelTrainer(select_anbieter, select_ausschreibung, '', config, cleanData, [])"
   ]
  },
  {
   "cell_type": "code",
   "execution_count": null,
   "metadata": {},
   "outputs": [],
   "source": [
    "#attributes = ['auftragsart_art']\n",
    "attributes = ['auftragsart_art','beschaffungsstelle_plz','gatt_wto','lose','teilangebote', 'varianten','sprache',]\n",
    "trainer.attributes = attributes"
   ]
  },
  {
   "cell_type": "code",
   "execution_count": null,
   "metadata": {},
   "outputs": [],
   "source": [
    "# Choose a bidder to train a model for (number of positive marked after the name)\n",
    "\n",
    "# === THESIS ===\n",
    "\n",
    "#anbieter = 'Alpiq AG' #430\n",
    "#anbieter = 'Swisscom' #302\n",
    "anbieter = 'Kummler + Matter AG' #160\n",
    "#anbieter = 'Siemens AG' #532\n",
    "\n",
    "#anbieter = 'G. Baumgartner AG' #65\n",
    "#anbieter = 'ELCA Informatik AG' #125\n",
    "#anbieter = 'Thermo Fisher Scientific (Schweiz) AG' #160\n",
    "#anbieter = 'Arnold AG' #82\n",
    "\n",
    "#anbieter = 'Riget AG' #21\n",
    "#anbieter = 'isolutions AG' #16\n",
    "#anbieter = 'CSI Consulting AG' #21\n",
    "#anbieter = 'Aebi & Co. AG Maschinenfabrik' #15\n",
    "\n",
    "#anbieter = 'DB Schenker AG' #6\n",
    "#anbieter = 'IT-Logix AG' #12\n",
    "#anbieter = 'AVS Syteme AG' #14\n",
    "#anbieter = 'Sajet SA' #7\n",
    "\n",
    "# === TESTING ===\n",
    "\n",
    "#anbieter = 'Marti AG' #456\n",
    "#anbieter = 'Axpo AG' #40\n",
    "#anbieter = 'Hewlett-Packard' #90\n",
    "#anbieter = 'BG Ingénieurs Conseils' SA #116\n",
    "#anbieter = 'Pricewaterhousecoopers' #42\n",
    "#anbieter = 'Helbling Beratung + Bauplanung AG' #20\n",
    "#anbieter = 'Ofrex SA' #52\n",
    "#anbieter = 'PENTAG Informatik AG' #10\n",
    "#anbieter = 'Wicki Forst AG' #12\n",
    "#anbieter = 'T-Systems Schweiz' #18\n",
    "#anbieter = 'Bafilco AG' #20\n",
    "#anbieter = '4Video-Production GmbH' #3\n",
    "#anbieter = 'Widmer Ingenieure AG' #6\n",
    "#anbieter = 'hmb partners AG' #2\n",
    "#anbieter = 'Planmeca' #4\n",
    "#anbieter = 'K & M Installationen AG' #4\n",
    "\n",
    "trainer.anbieter = anbieter"
   ]
  },
  {
   "cell_type": "markdown",
   "metadata": {},
   "source": [
    "# Part 3: Run"
   ]
  },
  {
   "cell_type": "code",
   "execution_count": null,
   "metadata": {},
   "outputs": [],
   "source": [
    "output = trainer.run()"
   ]
  },
  {
   "cell_type": "code",
   "execution_count": null,
   "metadata": {},
   "outputs": [],
   "source": [
    "output"
   ]
  },
  {
   "cell_type": "code",
   "execution_count": null,
   "metadata": {},
   "outputs": [],
   "source": [
    "collection.append(output)"
   ]
  },
  {
   "cell_type": "code",
   "execution_count": null,
   "metadata": {},
   "outputs": [],
   "source": [
    "[ item['anbieter'] for item in collection.list]"
   ]
  },
  {
   "cell_type": "code",
   "execution_count": null,
   "metadata": {},
   "outputs": [],
   "source": [
    "collection.list"
   ]
  },
  {
   "cell_type": "code",
   "execution_count": null,
   "metadata": {},
   "outputs": [],
   "source": [
    "collection.get_all_as_df('random_forest').drop(['sample_size_mean'], axis=1)"
   ]
  },
  {
   "cell_type": "code",
   "execution_count": null,
   "metadata": {},
   "outputs": [],
   "source": [
    "next(item['attributes'] for index, item in enumerate(collection.list) if item['anbieter']=='ELCA Informatik AG')"
   ]
  },
  {
   "cell_type": "code",
   "execution_count": null,
   "metadata": {},
   "outputs": [],
   "source": [
    "next(item for item in collection.list if item['anbieter']=='ELCA Informatik AG')['random_forest']"
   ]
  },
  {
   "cell_type": "code",
   "execution_count": null,
   "metadata": {},
   "outputs": [],
   "source": []
  }
 ],
 "metadata": {
  "kernelspec": {
   "display_name": "Python 3",
   "language": "python",
   "name": "python3"
  },
  "language_info": {
   "codemirror_mode": {
    "name": "ipython",
    "version": 3
   },
   "file_extension": ".py",
   "mimetype": "text/x-python",
   "name": "python",
   "nbconvert_exporter": "python",
   "pygments_lexer": "ipython3",
   "version": "3.7.3"
  }
 },
 "nbformat": 4,
 "nbformat_minor": 2
}
